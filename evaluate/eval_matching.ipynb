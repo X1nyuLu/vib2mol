{
 "cells": [
  {
   "cell_type": "code",
   "execution_count": 1,
   "metadata": {},
   "outputs": [],
   "source": [
    "import lmdb\n",
    "# Open LMDB \n",
    "db = lmdb.open('../datasets/vibench/geom/geom_test.lmdb', subdir=False, lock=False, map_size=int(1e11))\n",
    "with db.begin() as txn:\n",
    "    geom_data = list(txn.cursor())"
   ]
  },
  {
   "cell_type": "code",
   "execution_count": 2,
   "metadata": {},
   "outputs": [
    {
     "name": "stderr",
     "output_type": "stream",
     "text": [
      "100%|██████████| 5659/5659 [00:00<00:00, 77666.45it/s]\n",
      "/opt/miniconda3/envs/pytorch/lib/python3.11/site-packages/tqdm/auto.py:21: TqdmWarning: IProgress not found. Please update jupyter and ipywidgets. See https://ipywidgets.readthedocs.io/en/stable/user_install.html\n",
      "  from .autonotebook import tqdm as notebook_tqdm\n"
     ]
    }
   ],
   "source": [
    "import pickle\n",
    "import multiprocessing as mp \n",
    "from tqdm import tqdm \n",
    "import pandas as pd\n",
    "\n",
    "test_df =  pd.DataFrame([pickle.loads(item[1]) for item in tqdm(geom_data)])\n",
    "\n",
    "smiles = test_df['kekule_smiles'].to_list()\n",
    "query_spectra = test_df['q_raman'].to_list()\n",
    "key_spectra = test_df['k_raman'].to_list()\n",
    "\n",
    "from transformers import AutoTokenizer\n",
    "tokenizer = AutoTokenizer.from_pretrained('../models/MolTokenizer')\n"
   ]
  },
  {
   "cell_type": "code",
   "execution_count": 3,
   "metadata": {},
   "outputs": [
    {
     "data": {
      "text/plain": [
       "(5659, 5659)"
      ]
     },
     "execution_count": 3,
     "metadata": {},
     "output_type": "execute_result"
    }
   ],
   "source": [
    "len(query_spectra), len(key_spectra)"
   ]
  },
  {
   "cell_type": "code",
   "execution_count": 4,
   "metadata": {},
   "outputs": [
    {
     "name": "stdout",
     "output_type": "stream",
     "text": [
      "recall@1:0.34670\n",
      "recall@3:0.43753\n",
      "recall@5:0.47623\n",
      "recall@10:0.53455\n"
     ]
    },
    {
     "name": "stderr",
     "output_type": "stream",
     "text": [
      "/var/folders/1j/7pqn40651hvgyt1913gz84880000gn/T/ipykernel_76363/925635103.py:31: UserWarning: To copy construct from a tensor, it is recommended to use sourceTensor.clone().detach() or sourceTensor.clone().detach().requires_grad_(True), rather than torch.tensor(sourceTensor).\n",
      "  similarity_matrix = torch.tensor(similarity_matrix)\n"
     ]
    }
   ],
   "source": [
    "import numpy as np\n",
    "import torch\n",
    "import torch.nn.functional as F\n",
    "\n",
    "def calculate_similarity_matrix(embedding_query, embedding_key):\n",
    "    embedding_query = torch.tensor(embedding_query)\n",
    "    embedding_key = torch.tensor(embedding_key)\n",
    "    \n",
    "    embedding_query = F.normalize(embedding_query, p=2, dim=1)\n",
    "    embedding_key = F.normalize(embedding_key, p=2, dim=1)\n",
    "\n",
    "    similarity_matrix = torch.matmul(embedding_query, embedding_key.t())\n",
    "    return similarity_matrix\n",
    "\n",
    "def compute_recall(similarity_matrix, k, verbose=False):\n",
    "    num_queries = similarity_matrix.size(0)\n",
    "    _, topk_indices = similarity_matrix.topk(k, dim=1, largest=True, sorted=True)\n",
    "    correct = 0\n",
    "    for i in range(num_queries):\n",
    "        if i in topk_indices[i]:\n",
    "            correct += 1\n",
    "    recall_at_k = correct / num_queries\n",
    "    \n",
    "    if verbose:\n",
    "        print(f'recall@{k}:{recall_at_k:.5f}')\n",
    "    else:\n",
    "        return recall_at_k\n",
    "\n",
    "similarity_matrix = calculate_similarity_matrix(np.array(query_spectra), np.array(key_spectra))\n",
    "# similarity_matrix = np.corrcoef(np.array(query_spectra), np.array(key_spectra))[len(query_spectra):, :len(query_spectra)]\n",
    "similarity_matrix = torch.tensor(similarity_matrix)\n",
    "compute_recall(similarity_matrix, k=1, verbose=True)\n",
    "compute_recall(similarity_matrix, k=3, verbose=True)\n",
    "compute_recall(similarity_matrix, k=5, verbose=True)\n",
    "compute_recall(similarity_matrix, k=10, verbose=True)"
   ]
  },
  {
   "cell_type": "code",
   "execution_count": 5,
   "metadata": {},
   "outputs": [
    {
     "data": {
      "text/plain": [
       "<All keys matched successfully>"
      ]
     },
     "execution_count": 5,
     "metadata": {},
     "output_type": "execute_result"
    }
   ],
   "source": [
    "import sys \n",
    "sys.path.append('../')\n",
    "\n",
    "import torch\n",
    "\n",
    "from models import build_model\n",
    "from models import PretrainModel_Phase\n",
    "from utils.base import seed_everything\n",
    "\n",
    "seed_everything(624)\n",
    "device = 'cpu' if not torch.cuda.is_available() else 'cuda:0'\n",
    "\n",
    "model = build_model('vib2mol_phase').to(device)\n",
    "ckpt = torch.load('../checkpoints/mols/raman-kekule_smiles/vib2mol_phase.pth', \n",
    "                  map_location=device, weights_only=True)\n",
    "\n",
    "\n",
    "ckpt = {k.replace('module.', ''): v for k, v in ckpt.items()}\n",
    "model.load_state_dict(ckpt)"
   ]
  },
  {
   "cell_type": "code",
   "execution_count": 6,
   "metadata": {},
   "outputs": [
    {
     "name": "stderr",
     "output_type": "stream",
     "text": [
      "100%|██████████| 177/177 [02:34<00:00,  1.15it/s]\n"
     ]
    }
   ],
   "source": [
    "class TestDataset(torch.utils.data.Dataset):\n",
    "    def __init__(self, tgt_spectra):\n",
    "        self.tgt_spectra = tgt_spectra\n",
    "\n",
    "    def __len__(self):\n",
    "        return len(self.tgt_spectra)\n",
    "\n",
    "    def __getitem__(self, idx):\n",
    "        return self.tgt_spectra[idx]\n",
    "\n",
    "class TestCollator:\n",
    "    def __init__(self):\n",
    "        pass\n",
    "    def __call__(self, batch):\n",
    "        spectra = torch.as_tensor(np.array(batch), dtype=torch.float32).unsqueeze(1).to(device)\n",
    "        return {'spectra':spectra}    \n",
    "\n",
    "\n",
    "test_dataset = TestDataset(query_spectra + key_spectra)\n",
    "test_collator = TestCollator()\n",
    "test_loader = torch.utils.data.DataLoader(test_dataset, batch_size=64, collate_fn=test_collator)\n",
    "test_bar = tqdm(test_loader)\n",
    "\n",
    "spectral_embeddings = []\n",
    "\n",
    "model.eval()\n",
    "for batch in test_bar:\n",
    "    with torch.no_grad():\n",
    "        spectral_embedding = model.get_spectral_embeddings(batch)['proj_output']\n",
    "        spectral_embeddings.append(spectral_embedding.cpu().numpy())\n",
    "\n",
    "spectral_embeddings = np.vstack(spectral_embeddings)\n",
    "query_spectral_embeddings = spectral_embeddings[:len(query_spectra)]\n",
    "key_spectral_embeddings = spectral_embeddings[len(query_spectra):]"
   ]
  },
  {
   "cell_type": "code",
   "execution_count": 7,
   "metadata": {},
   "outputs": [
    {
     "name": "stdout",
     "output_type": "stream",
     "text": [
      "recall@1:0.76462\n",
      "recall@3:0.91005\n",
      "recall@5:0.94487\n",
      "recall@10:0.97473\n"
     ]
    }
   ],
   "source": [
    "similarity_matrix = calculate_similarity_matrix(query_spectral_embeddings, key_spectral_embeddings)\n",
    "\n",
    "compute_recall(similarity_matrix, k=1, verbose=True)\n",
    "compute_recall(similarity_matrix, k=3, verbose=True)\n",
    "compute_recall(similarity_matrix, k=5, verbose=True)\n",
    "compute_recall(similarity_matrix, k=10, verbose=True)"
   ]
  },
  {
   "cell_type": "code",
   "execution_count": null,
   "metadata": {},
   "outputs": [],
   "source": []
  }
 ],
 "metadata": {
  "kernelspec": {
   "display_name": "pytorch",
   "language": "python",
   "name": "python3"
  },
  "language_info": {
   "codemirror_mode": {
    "name": "ipython",
    "version": 3
   },
   "file_extension": ".py",
   "mimetype": "text/x-python",
   "name": "python",
   "nbconvert_exporter": "python",
   "pygments_lexer": "ipython3",
   "version": "3.11.11"
  }
 },
 "nbformat": 4,
 "nbformat_minor": 2
}
